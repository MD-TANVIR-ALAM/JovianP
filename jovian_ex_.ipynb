{
  "nbformat": 4,
  "nbformat_minor": 0,
  "metadata": {
    "colab": {
      "provenance": [],
      "authorship_tag": "ABX9TyMoX5sliHmdSMgSYR6uYHSb",
      "include_colab_link": true
    },
    "kernelspec": {
      "name": "python3",
      "display_name": "Python 3"
    },
    "language_info": {
      "name": "python"
    }
  },
  "cells": [
    {
      "cell_type": "markdown",
      "metadata": {
        "id": "view-in-github",
        "colab_type": "text"
      },
      "source": [
        "<a href=\"https://colab.research.google.com/github/MD-TANVIR-ALAM/JovianP/blob/main/jovian_ex_.ipynb\" target=\"_parent\"><img src=\"https://colab.research.google.com/assets/colab-badge.svg\" alt=\"Open In Colab\"/></a>"
      ]
    },
    {
      "cell_type": "code",
      "execution_count": null,
      "metadata": {
        "id": "jHKPRM-5K7Zp"
      },
      "outputs": [],
      "source": []
    },
    {
      "cell_type": "code",
      "source": [
        "import torch\n",
        "\n",
        "# Example 1: Simple SVD\n",
        "matrix1 = torch.tensor([[3., 2., 2.], [2., 3., -2.]])\n",
        "U1, S1, V1 = torch.svd(matrix1)\n",
        "\n",
        "# Example 2: SVD with a larger matrix\n",
        "matrix2 = torch.randn(4, 5)\n",
        "U2, S2, V2 = torch.svd(matrix2)\n",
        "\n",
        "# Errorable example: SVD on a non-2D tensor\n",
        "matrix3 = torch.tensor([1., 2.])\n",
        "try:\n",
        "    U3, S3, V3 = torch.svd(matrix3)\n",
        "except Exception as e:\n",
        "    error_message = str(e)\n",
        "\n",
        "print('Example 1 - U:\\n', U1)\n",
        "print('Example 1 - S:\\n', S1)\n",
        "print('Example 1 - V:\\n', V1)\n",
        "print('\\nExample 2 - U:\\n', U2)\n",
        "print('Example 2 - S:\\n', S2)\n",
        "print('Example 2 - V:\\n', V2)\n",
        "print('\\nErrorable example error message:\\n', error_message)"
      ],
      "metadata": {
        "id": "R3zGvHKeEesc",
        "colab": {
          "base_uri": "https://localhost:8080/"
        },
        "outputId": "3ab31510-cd4f-4ab8-e0fc-d5f1c0fa7c4c"
      },
      "execution_count": 1,
      "outputs": [
        {
          "output_type": "stream",
          "name": "stdout",
          "text": [
            "Example 1 - U:\n",
            " tensor([[ 0.7071, -0.7071],\n",
            "        [ 0.7071,  0.7071]])\n",
            "Example 1 - S:\n",
            " tensor([5.0000, 3.0000])\n",
            "Example 1 - V:\n",
            " tensor([[ 7.0711e-01, -2.3570e-01],\n",
            "        [ 7.0711e-01,  2.3570e-01],\n",
            "        [ 4.2130e-08, -9.4281e-01]])\n",
            "\n",
            "Example 2 - U:\n",
            " tensor([[ 0.0572,  0.4842, -0.8729,  0.0188],\n",
            "        [-0.6844,  0.4589,  0.1983, -0.5307],\n",
            "        [ 0.2398,  0.7268,  0.4292,  0.4796],\n",
            "        [-0.6861, -0.1633, -0.1206,  0.6986]])\n",
            "Example 2 - S:\n",
            " tensor([3.6507, 2.0463, 1.2610, 0.5091])\n",
            "Example 2 - V:\n",
            " tensor([[-0.1218, -0.5522, -0.0575,  0.0569],\n",
            "        [ 0.3676, -0.4582, -0.4942,  0.5514],\n",
            "        [ 0.8629,  0.3368, -0.0275, -0.1068],\n",
            "        [ 0.3235, -0.5677,  0.6591, -0.2565],\n",
            "        [-0.0263,  0.2224,  0.5633,  0.7845]])\n",
            "\n",
            "Errorable example error message:\n",
            " linalg.svd: input should have at least 2 dimensions, but has 1 dimensions instead\n"
          ]
        }
      ]
    }
  ]
}