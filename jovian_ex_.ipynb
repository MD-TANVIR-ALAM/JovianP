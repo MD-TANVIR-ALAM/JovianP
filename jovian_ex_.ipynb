{
  "nbformat": 4,
  "nbformat_minor": 0,
  "metadata": {
    "colab": {
      "provenance": [],
      "authorship_tag": "ABX9TyOvD8KqxWnvg0tIwxxeIgOP",
      "include_colab_link": true
    },
    "kernelspec": {
      "name": "python3",
      "display_name": "Python 3"
    },
    "language_info": {
      "name": "python"
    }
  },
  "cells": [
    {
      "cell_type": "markdown",
      "metadata": {
        "id": "view-in-github",
        "colab_type": "text"
      },
      "source": [
        "<a href=\"https://colab.research.google.com/github/MD-TANVIR-ALAM/JovianP/blob/main/jovian_ex_.ipynb\" target=\"_parent\"><img src=\"https://colab.research.google.com/assets/colab-badge.svg\" alt=\"Open In Colab\"/></a>"
      ]
    },
    {
      "cell_type": "code",
      "execution_count": null,
      "metadata": {
        "id": "jHKPRM-5K7Zp"
      },
      "outputs": [],
      "source": []
    },
    {
      "cell_type": "code",
      "source": [
        "import torch\n",
        "\n",
        "# Example 1: Simple SVD\n",
        "matrix1 = torch.tensor([[3., 2., 2.], [2., 3., -2.]])\n",
        "U1, S1, V1 = torch.svd(matrix1)\n",
        "\n",
        "# Example 2: SVD with a larger matrix\n",
        "matrix2 = torch.randn(4, 5)\n",
        "U2, S2, V2 = torch.svd(matrix2)\n",
        "\n",
        "# Errorable example: SVD on a non-2D tensor\n",
        "matrix3 = torch.tensor([1., 2.])\n",
        "try:\n",
        "    U3, S3, V3 = torch.svd(matrix3)\n",
        "except Exception as e:\n",
        "    error_message = str(e)\n",
        "\n",
        "print('Example 1 - U:\\n', U1)\n",
        "print('Example 1 - S:\\n', S1)\n",
        "print('Example 1 - V:\\n', V1)\n",
        "print('\\nExample 2 - U:\\n', U2)\n",
        "print('Example 2 - S:\\n', S2)\n",
        "print('Example 2 - V:\\n', V2)\n",
        "print('\\nErrorable example error message:\\n', error_message)"
      ],
      "metadata": {
        "id": "R3zGvHKeEesc",
        "colab": {
          "base_uri": "https://localhost:8080/"
        },
        "outputId": "c363b72c-4e54-44ba-fa24-73c86bdf09f8"
      },
      "execution_count": 2,
      "outputs": [
        {
          "output_type": "stream",
          "name": "stdout",
          "text": [
            "Example 1 - U:\n",
            " tensor([[ 0.7071, -0.7071],\n",
            "        [ 0.7071,  0.7071]])\n",
            "Example 1 - S:\n",
            " tensor([5.0000, 3.0000])\n",
            "Example 1 - V:\n",
            " tensor([[ 7.0711e-01, -2.3570e-01],\n",
            "        [ 7.0711e-01,  2.3570e-01],\n",
            "        [ 4.2130e-08, -9.4281e-01]])\n",
            "\n",
            "Example 2 - U:\n",
            " tensor([[ 0.4944,  0.8315, -0.0204,  0.2525],\n",
            "        [-0.5111,  0.3628,  0.7680, -0.1317],\n",
            "        [ 0.6002, -0.4157,  0.6378,  0.2452],\n",
            "        [-0.3661, -0.0650, -0.0541,  0.9267]])\n",
            "Example 2 - S:\n",
            " tensor([2.5130, 2.3047, 1.6160, 0.8997])\n",
            "Example 2 - V:\n",
            " tensor([[-0.3956, -0.5908,  0.5109,  0.2678],\n",
            "        [ 0.3525, -0.0606,  0.6327,  0.1769],\n",
            "        [-0.8107,  0.0331, -0.0495, -0.2199],\n",
            "        [ 0.0721,  0.0745,  0.4320, -0.8706],\n",
            "        [ 0.2385, -0.8004, -0.3867, -0.3012]])\n",
            "\n",
            "Errorable example error message:\n",
            " linalg.svd: input should have at least 2 dimensions, but has 1 dimensions instead\n"
          ]
        }
      ]
    },
    {
      "cell_type": "code",
      "source": [
        "# Function 4: torch.linalg.eig\n",
        "# Description: Computes the eigenvalues and eigenvectors of a real square matrix.\n",
        "\n",
        "# Example 1\n",
        "N = torch.tensor([[2.0, 0.0], [0.0, 3.0]], dtype=torch.float32)\n",
        "result7 = torch.linalg.eig(N)\n",
        "\n",
        "# Example 2\n",
        "O = torch.tensor([[4.0, -2.0], [1.0, 1.0]], dtype=torch.float32)\n",
        "result8 = torch.linalg.eig(O)\n",
        "\n",
        "# Corrected Errorable Example\n",
        "# This tensor Q is not a 2D square matrix, it's 1D\n",
        "Q = torch.tensor([2.0, 0.0, 3.0], dtype=torch.float32)\n",
        "try:\n",
        "    error_result4 = torch.linalg.eig(Q)\n",
        "except Exception as e:\n",
        "    error_message4 = str(e)\n",
        "\n",
        "print('Example 1 Result:\\n', result7)\n",
        "print('Example 2 Result:\\n', result8)\n",
        "print('Errorable Example Error:\\n', error_message4)"
      ],
      "metadata": {
        "id": "qDomoXbvvPie",
        "outputId": "451cc7af-a82a-4c1e-c02a-cffa1f561e90",
        "colab": {
          "base_uri": "https://localhost:8080/"
        }
      },
      "execution_count": 3,
      "outputs": [
        {
          "output_type": "stream",
          "name": "stdout",
          "text": [
            "Example 1 Result:\n",
            " torch.return_types.linalg_eig(\n",
            "eigenvalues=tensor([2.+0.j, 3.+0.j]),\n",
            "eigenvectors=tensor([[1.+0.j, 0.+0.j],\n",
            "        [0.+0.j, 1.+0.j]]))\n",
            "Example 2 Result:\n",
            " torch.return_types.linalg_eig(\n",
            "eigenvalues=tensor([3.+0.j, 2.+0.j]),\n",
            "eigenvectors=tensor([[0.8944+0.j, 0.7071+0.j],\n",
            "        [0.4472+0.j, 0.7071+0.j]]))\n",
            "Errorable Example Error:\n",
            " linalg.eig: The input tensor A must have at least 2 dimensions.\n"
          ]
        }
      ]
    },
    {
      "cell_type": "code",
      "source": [
        "# Function 3: torch.det\n",
        "# Description: Computes the determinant of a matrix.\n",
        "\n",
        "# Example 1\n",
        "J = torch.tensor([[1.0, 2.0], [3.0, 4.0]])\n",
        "result5 = torch.det(J)\n",
        "\n",
        "# Example 2\n",
        "K = torch.tensor([[7.0, 2.0], [3.0, 6.0]])\n",
        "result6 = torch.det(K)\n",
        "\n",
        "# Corrected Errorable Example\n",
        "# This tensor M is not a 2D square matrix, it's 1D\n",
        "M = torch.tensor([1.0, 2.0, 3.0])\n",
        "try:\n",
        "    error_result3 = torch.det(M)\n",
        "except Exception as e:\n",
        "    error_message3 = str(e)\n",
        "\n",
        "print('Example 1 Result:\\n', result5)\n",
        "print('Example 2 Result:\\n', result6)\n",
        "print('Errorable Example Error:\\n', error_message3)"
      ],
      "metadata": {
        "id": "oqcwZ3gCw5OF",
        "outputId": "78d49820-28be-40fe-dbb1-77a524d1b91c",
        "colab": {
          "base_uri": "https://localhost:8080/"
        }
      },
      "execution_count": 4,
      "outputs": [
        {
          "output_type": "stream",
          "name": "stdout",
          "text": [
            "Example 1 Result:\n",
            " tensor(-2.)\n",
            "Example 2 Result:\n",
            " tensor(36.)\n",
            "Errorable Example Error:\n",
            " linalg.det: The input tensor A must have at least 2 dimensions.\n"
          ]
        }
      ]
    },
    {
      "cell_type": "code",
      "source": [
        "import torch\n",
        "from tqdm import tqdm\n",
        "import time\n",
        "\n",
        "# Function 1: torch.matmul\n",
        "# Description: Performs matrix multiplication.\n",
        "\n",
        "# Example 1\n",
        "A = torch.tensor([[1, 2], [3, 4]])\n",
        "B = torch.tensor([[5, 6], [7, 8]])\n",
        "result1 = torch.matmul(A, B)\n",
        "\n",
        "# Example 2\n",
        "C = torch.tensor([[1, 2], [3, 4], [5, 6]])\n",
        "D = torch.tensor([[7, 8], [9, 10]])\n",
        "result2 = torch.matmul(C, D)\n",
        "\n",
        "# Errorable Example\n",
        "E = torch.tensor([[1, 2], [3, 4]])\n",
        "F = torch.tensor([5, 6, 7])\n",
        "try:\n",
        "    error_result = torch.matmul(E, F)\n",
        "except Exception as e:\n",
        "    error_message = str(e)\n",
        "\n",
        "print('Example 1 Result:\\n', result1)\n",
        "print('Example 2 Result:\\n', result2)\n",
        "print('Errorable Example Error:\\n', error_message)"
      ],
      "metadata": {
        "id": "psA5emg1xQUD",
        "outputId": "8855b058-0df9-4494-9d8f-a6b006470af7",
        "colab": {
          "base_uri": "https://localhost:8080/"
        }
      },
      "execution_count": 5,
      "outputs": [
        {
          "output_type": "stream",
          "name": "stdout",
          "text": [
            "Example 1 Result:\n",
            " tensor([[19, 22],\n",
            "        [43, 50]])\n",
            "Example 2 Result:\n",
            " tensor([[ 25,  28],\n",
            "        [ 57,  64],\n",
            "        [ 89, 100]])\n",
            "Errorable Example Error:\n",
            " size mismatch, got input (2), mat (2x2), vec (3)\n"
          ]
        }
      ]
    },
    {
      "cell_type": "code",
      "source": [
        "# Function 2: torch.inverse\n",
        "# Description: Computes the inverse of a square matrix.\n",
        "\n",
        "# Example 1\n",
        "G = torch.tensor([[1.0, 2.0], [3.0, 4.0]])\n",
        "result3 = torch.inverse(G)\n",
        "\n",
        "# Example 2\n",
        "H = torch.tensor([[7.0, 2.0], [3.0, 6.0]])\n",
        "result4 = torch.inverse(H)\n",
        "\n",
        "# Errorable Example\n",
        "I = torch.tensor([[1.0, 2.0], [2.0, 4.0]]) # This is a singular matrix\n",
        "try:\n",
        "    error_result2 = torch.inverse(I)\n",
        "except Exception as e:\n",
        "    error_message2 = str(e)\n",
        "\n",
        "print('Example 1 Result:\\n', result3)\n",
        "print('Example 2 Result:\\n', result4)\n",
        "print('Errorable Example Error:\\n', error_message2)"
      ],
      "metadata": {
        "id": "hMsJo_gNxgxq",
        "outputId": "40e1e8d9-a7d0-4cd3-f03e-e4703465b280",
        "colab": {
          "base_uri": "https://localhost:8080/"
        }
      },
      "execution_count": 6,
      "outputs": [
        {
          "output_type": "stream",
          "name": "stdout",
          "text": [
            "Example 1 Result:\n",
            " tensor([[-2.0000,  1.0000],\n",
            "        [ 1.5000, -0.5000]])\n",
            "Example 2 Result:\n",
            " tensor([[ 0.1667, -0.0556],\n",
            "        [-0.0833,  0.1944]])\n",
            "Errorable Example Error:\n",
            " linalg.inv: The diagonal element 2 is zero, the inversion could not be completed because the input matrix is singular.\n"
          ]
        }
      ]
    },
    {
      "cell_type": "code",
      "source": [
        "# Function 4: torch.linalg.eig\n",
        "# Description: Computes the eigenvalues and eigenvectors of a real square matrix.\n",
        "\n",
        "# Example 1\n",
        "N = torch.tensor([[2.0, 0.0], [0.0, 3.0]], dtype=torch.float32)\n",
        "result7 = torch.linalg.eig(N)\n",
        "\n",
        "# Example 2\n",
        "O = torch.tensor([[4.0, -2.0], [1.0, 1.0]], dtype=torch.float32)\n",
        "result8 = torch.linalg.eig(O)\n",
        "\n",
        "# Corrected Errorable Example\n",
        "# This tensor Q is not a 2D square matrix, it's 1D\n",
        "Q = torch.tensor([2.0, 0.0, 3.0], dtype=torch.float32)\n",
        "try:\n",
        "    error_result4 = torch.linalg.eig(Q)\n",
        "except Exception as e:\n",
        "    error_message4 = str(e)\n",
        "\n",
        "print('Example 1 Result:\\n', result7)\n",
        "print('Example 2 Result:\\n', result8)\n",
        "print('Errorable Example Error:\\n', error_message4)"
      ],
      "metadata": {
        "id": "74gTuVlAxpA6",
        "outputId": "f929d2c2-947a-4e59-cdeb-dccfbcd0a0f6",
        "colab": {
          "base_uri": "https://localhost:8080/"
        }
      },
      "execution_count": 7,
      "outputs": [
        {
          "output_type": "stream",
          "name": "stdout",
          "text": [
            "Example 1 Result:\n",
            " torch.return_types.linalg_eig(\n",
            "eigenvalues=tensor([2.+0.j, 3.+0.j]),\n",
            "eigenvectors=tensor([[1.+0.j, 0.+0.j],\n",
            "        [0.+0.j, 1.+0.j]]))\n",
            "Example 2 Result:\n",
            " torch.return_types.linalg_eig(\n",
            "eigenvalues=tensor([3.+0.j, 2.+0.j]),\n",
            "eigenvectors=tensor([[0.8944+0.j, 0.7071+0.j],\n",
            "        [0.4472+0.j, 0.7071+0.j]]))\n",
            "Errorable Example Error:\n",
            " linalg.eig: The input tensor A must have at least 2 dimensions.\n"
          ]
        }
      ]
    }
  ]
}